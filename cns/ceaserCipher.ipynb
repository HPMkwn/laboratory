{
 "cells": [
  {
   "cell_type": "code",
   "execution_count": 2,
   "metadata": {},
   "outputs": [],
   "source": [
    "def encript(text,s):\n",
    "    ret = \"\"\n",
    "    \n",
    "    for i in range(len(text)):\n",
    "        char = text[i]\n",
    "        if(char.isupper()):\n",
    "            ret += chr((ord(char)-65 + s) % 26 + 65)\n",
    "        elif(char.islower()) :\n",
    "            ret += chr((ord(char)-97 + s) % 26 + 97)\n",
    "        elif(char.isnumeric()) :\n",
    "            ret += chr((ord(char) -48 + s) % 10 + 48)\n",
    "        else :\n",
    "            ret += char\n",
    "    return ret;\n"
   ]
  },
  {
   "cell_type": "code",
   "execution_count": 8,
   "metadata": {},
   "outputs": [],
   "source": [
    "def decript(text,s):\n",
    "    ret = \"\"\n",
    "    \n",
    "    for i in range(len(text)):\n",
    "        \n",
    "        char = text[i]\n",
    "        \n",
    "        if(char.isupper()):\n",
    "            ret += chr((ord(char)-65 - s + 26) % 26 + 65)\n",
    "        elif(char.islower()) :\n",
    "            ret += chr((ord(char)-97 - s + 26) % 26 + 97)\n",
    "        elif(char.isnumeric()) :\n",
    "            ret += chr((ord(char) -48 - s + 10) % 10 + 48)\n",
    "        else :\n",
    "            ret += char\n",
    "    \n",
    "    return ret"
   ]
  },
  {
   "cell_type": "code",
   "execution_count": 12,
   "metadata": {},
   "outputs": [],
   "source": [
    "import sys\n",
    "import os"
   ]
  },
  {
   "cell_type": "code",
   "execution_count": 25,
   "metadata": {},
   "outputs": [
    {
     "name": "stdout",
     "output_type": "stream",
     "text": [
      "Enter your file name : harry\n",
      "yes it is\n",
      "['kfnskgnefvdv\\n', 'bvdfkgbfkbnfv\\n', 'vcxkvbfkvbnfvlfv\\n', 'cxbvdfvflvn\\n']\n"
     ]
    }
   ],
   "source": [
    "flag = True\n",
    "while flag :\n",
    "    a = input(\"Enter your file name : \")\n",
    "    b = os.path.isfile(\"./\"+a)\n",
    "    if b : \n",
    "        flag = False\n",
    "        print(\"yes it is\")\n",
    "        file = open(a ,\"r\")\n",
    "        str = file.readlines()\n",
    "        print(str)\n",
    "        file.close()\n",
    "    else :\n",
    "        print(\"there no file like this name \" + a)"
   ]
  },
  {
   "cell_type": "code",
   "execution_count": null,
   "metadata": {},
   "outputs": [],
   "source": []
  }
 ],
 "metadata": {
  "kernelspec": {
   "display_name": "Python 3.8.2 64-bit",
   "language": "python",
   "name": "python38264bit235d1f1712484223b2f34850e120d195"
  },
  "language_info": {
   "codemirror_mode": {
    "name": "ipython",
    "version": 3
   },
   "file_extension": ".py",
   "mimetype": "text/x-python",
   "name": "python",
   "nbconvert_exporter": "python",
   "pygments_lexer": "ipython3",
   "version": "3.8.2"
  }
 },
 "nbformat": 4,
 "nbformat_minor": 4
}
