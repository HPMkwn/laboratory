{
 "cells": [
  {
   "cell_type": "code",
   "execution_count": 54,
   "metadata": {},
   "outputs": [],
   "source": [
    "def encript(text,s):\n",
    "    ret = \"\"\n",
    "    \n",
    "    for i in range(len(text)):\n",
    "        char = text[i]\n",
    "        if(char.isupper()):\n",
    "            ret += chr((ord(char)-65 + s) % 26 + 65)\n",
    "        elif(char.islower()) :\n",
    "            ret += chr((ord(char)-97 + s) % 26 + 97)\n",
    "        elif(char.isnumeric()) :\n",
    "            ret += chr((ord(char) -48 + s) % 10 + 48)\n",
    "        else :\n",
    "            ret += char\n",
    "    return ret;"
   ]
  },
  {
   "cell_type": "code",
   "execution_count": 55,
   "metadata": {},
   "outputs": [],
   "source": [
    "def decript(text,s):\n",
    "    ret = \"\"\n",
    "    \n",
    "    for i in range(len(text)):\n",
    "        \n",
    "        char = text[i]\n",
    "        \n",
    "        if(char.isupper()):\n",
    "            ret += chr((ord(char)-65 - s + 26) % 26 + 65)\n",
    "        elif(char.islower()) :\n",
    "            ret += chr((ord(char)-97 - s + 26) % 26 + 97)\n",
    "        elif(char.isnumeric()) :\n",
    "            ret += chr((ord(char) -48 - s + 10) % 10 + 48)\n",
    "        else :\n",
    "            ret += char\n",
    "    \n",
    "    return ret"
   ]
  },
  {
   "cell_type": "code",
   "execution_count": 56,
   "metadata": {},
   "outputs": [],
   "source": [
    "import sys\n",
    "import os"
   ]
  },
  {
   "cell_type": "code",
   "execution_count": 106,
   "metadata": {},
   "outputs": [],
   "source": [
    "def readValue(n):\n",
    "    flag = True\n",
    "    shift = int(-1)\n",
    "    while flag :\n",
    "        a = input(\"Enter your file name : \")\n",
    "        b = os.path.isfile(\"./\"+a)\n",
    "        if (shift == -1 and n==1):\n",
    "            shift = int(input(\"Enter Nymber to shift char : \"))\n",
    "        \n",
    "        \n",
    "        ### File is there in directory\n",
    "        if b:\n",
    "            \n",
    "            flag = False\n",
    "            shift = -1\n",
    "            \n",
    "            \n",
    "            ### For Encription\n",
    "            if n==1: \n",
    "                file = open(a ,\"r\")\n",
    "                var = file.readlines()\n",
    "                if isinstance(var,list): \n",
    "                    temp = []\n",
    "                    for x in var:\n",
    "                        temp.append(encript(x,shift))\n",
    "                    print(temp)\n",
    "                else:\n",
    "                    print(encript(var,shift))\n",
    "                file.close()     \n",
    "            \n",
    "            \n",
    "            ### For Decreption\n",
    "            elif n==2:\n",
    "                print(\"decreption\")\n",
    "            \n",
    "            \n",
    "            ### for find key using bruteforce\n",
    "            elif n==3:\n",
    "                print(\"find key using bruteforce\")\n",
    "            \n",
    "            \n",
    "            ### For Encryption analysis attack\n",
    "            else:\n",
    "                print(\"encription using analysis attack\")\n",
    "                \n",
    "        ### File is not there in this perticular directory\n",
    "        else :\n",
    "            print(\"there no file like this name \" + a+ \"\\n\")"
   ]
  },
  {
   "cell_type": "code",
   "execution_count": 58,
   "metadata": {},
   "outputs": [],
   "source": [
    "def numbers_to_strings(argument): \n",
    "    switcher = { \n",
    "        1: readValue(argument), \n",
    "        2: funb(), \n",
    "        3: func(),\n",
    "        4: func()\n",
    "    } \n",
    "\n",
    "    return switcher.get(argument, \"nothing\") \n",
    "\n"
   ]
  },
  {
   "cell_type": "code",
   "execution_count": null,
   "metadata": {},
   "outputs": [
    {
     "name": "stdout",
     "output_type": "stream",
     "text": [
      "\n",
      "1:) for encript file already exists\n",
      "2:) decripte file and print\n",
      "3:) find encription key using bruteforce attack for a decript file\n",
      "4:) find encryption key using analysis attack\n",
      "\n",
      "Enter value what you want : 1\n",
      "Enter your file name : harry\n",
      "Enter Nymber to shift char : 4\n",
      "['gdqzs']\n"
     ]
    }
   ],
   "source": [
    "n = 1\n",
    "print(\"\"\"\n",
    "1:) for encript file already exists\n",
    "2:) decripte file and print\n",
    "3:) find encription key using bruteforce attack for a decript file\n",
    "4:) find encryption key using analysis attack\n",
    "\"\"\")\n",
    "while True:\n",
    "    n = int(input(\"Enter value what you want : \"))\n",
    "    if n!=4 and n!=1 and n!=2 and n!=3 :\n",
    "        print(\"Please choose among above Numbers or close using ctrl + c\")\n",
    "        continue\n",
    "    readValue(n)"
   ]
  },
  {
   "cell_type": "code",
   "execution_count": null,
   "metadata": {},
   "outputs": [],
   "source": []
  }
 ],
 "metadata": {
  "kernelspec": {
   "display_name": "Python 3.8.2 64-bit",
   "language": "python",
   "name": "python38264bit235d1f1712484223b2f34850e120d195"
  },
  "language_info": {
   "codemirror_mode": {
    "name": "ipython",
    "version": 3
   },
   "file_extension": ".py",
   "mimetype": "text/x-python",
   "name": "python",
   "nbconvert_exporter": "python",
   "pygments_lexer": "ipython3",
   "version": "3.8.2"
  }
 },
 "nbformat": 4,
 "nbformat_minor": 4
}
