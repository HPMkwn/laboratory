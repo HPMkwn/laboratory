{
 "cells": [
  {
   "cell_type": "code",
   "execution_count": 17,
   "metadata": {},
   "outputs": [],
   "source": [
    "#Encryption of rail fence Cipher\n",
    "\n",
    "def encryption(text, key): \n",
    "  \n",
    "    rail = [['$' for i in range(len(text))] \n",
    "                  for j in range(key)] \n",
    "    \n",
    "    print(rail)\n",
    "    dir_down = False\n",
    "    row, col = 0, 0\n",
    "      \n",
    "    for i in range(len(text)): \n",
    "          \n",
    "        if (row == 0) or (row == key - 1): \n",
    "            dir_down = not dir_down \n",
    "          \n",
    "        rail[row][col] = text[i] \n",
    "        col += 1\n",
    "          \n",
    "        if dir_down: \n",
    "            row += 1\n",
    "        else: \n",
    "            row -= 1\n",
    "\n",
    "            result = [] \n",
    "\n",
    "    for i in range(key): \n",
    "        for j in range(len(text)): \n",
    "            if rail[i][j] != '$': \n",
    "                result.append(rail[i][j]) \n",
    "    \n",
    "    return(\"\" . join(result)) "
   ]
  },
  {
   "cell_type": "code",
   "execution_count": 20,
   "metadata": {},
   "outputs": [],
   "source": [
    "#Decryption of rail fence Cipher\n",
    "def decryption(cipher, key): \n",
    "  \n",
    "    rail = [['_' for i in range(len(cipher))]  \n",
    "                  for j in range(key)] \n",
    "      \n",
    "    # to find the direction \n",
    "    flag = False\n",
    "    row, col = 0, 0\n",
    "      \n",
    "    for i in range(len(cipher)): \n",
    "        if row == 0: \n",
    "            flag = True\n",
    "        if row == key - 1: \n",
    "            flag = False\n",
    "          \n",
    "        rail[row][col] = '*'\n",
    "        col += 1\n",
    "          \n",
    "        if flag: \n",
    "            row += 1\n",
    "        else: \n",
    "            row -= 1\n",
    "    \n",
    "    \n",
    "    print(rail)         \n",
    "    index = 0\n",
    "    for i in range(key): \n",
    "        for j in range(len(cipher)): \n",
    "            if ((rail[i][j] == '*') and\n",
    "               (index < len(cipher))): \n",
    "                rail[i][j] = cipher[index] \n",
    "                index += 1\n",
    "          \n",
    "    result = [] \n",
    "    row, col = 0, 0\n",
    "    \n",
    "    \n",
    "    for i in range(len(cipher)): \n",
    "        if row == 0: \n",
    "            flag = True\n",
    "        if row == key-1: \n",
    "            flag = False\n",
    "\n",
    "        if (rail[row][col] != '*'): \n",
    "            result.append(rail[row][col]) \n",
    "            col += 1\n",
    "              \n",
    "        if flag: \n",
    "            row += 1\n",
    "        else: \n",
    "            row -= 1\n",
    "    \n",
    "    return(\"\".join(result))"
   ]
  },
  {
   "cell_type": "code",
   "execution_count": 19,
   "metadata": {},
   "outputs": [
    {
     "name": "stdout",
     "output_type": "stream",
     "text": [
      "[['$', '$', '$', '$', '$', '$', '$', '$', '$', '$', '$', '$', '$'], ['$', '$', '$', '$', '$', '$', '$', '$', '$', '$', '$', '$', '$'], ['$', '$', '$', '$', '$', '$', '$', '$', '$', '$', '$', '$', '$'], ['$', '$', '$', '$', '$', '$', '$', '$', '$', '$', '$', '$', '$'], ['$', '$', '$', '$', '$', '$', '$', '$', '$', '$', '$', '$', '$']]\n",
      "[['*', '_', '_', '_', '_', '_', '_', '_', '*', '_', '_', '_', '_'], ['_', '*', '_', '_', '_', '_', '_', '*', '_', '*', '_', '_', '_'], ['_', '_', '*', '_', '_', '_', '*', '_', '_', '_', '*', '_', '_'], ['_', '_', '_', '*', '_', '*', '_', '_', '_', '_', '_', '*', '_'], ['_', '_', '_', '_', '*', '_', '_', '_', '_', '_', '_', '_', '*']]\n",
      "ABCDEFGHIJKLM\n"
     ]
    }
   ],
   "source": [
    "print(decryptRailFence(encryptRailFence(\"ABCDEFGHIJKLM\",5),5))"
   ]
  },
  {
   "cell_type": "code",
   "execution_count": 1,
   "metadata": {},
   "outputs": [
    {
     "name": "stdout",
     "output_type": "stream",
     "text": [
      "\n",
      "* _ _ _ _ _ _ _ * _ _ _ _ _\n",
      "_ * _ _ _ _ _ * _ * _ _ _ _\n",
      "_ _ * _ _ _ * _ _ _ * _ _ _\n",
      "_ _ _ * _ * _ _ _ _ _ * _ *\n",
      "_ _ _ _ * _ _ _ _ _ _ _ * _\n",
      "\n",
      "\n"
     ]
    }
   ],
   "source": [
    "print('''\n",
    "* _ _ _ _ _ _ _ * _ _ _ _ _\n",
    "_ * _ _ _ _ _ * _ * _ _ _ _\n",
    "_ _ * _ _ _ * _ _ _ * _ _ _\n",
    "_ _ _ * _ * _ _ _ _ _ * _ *\n",
    "_ _ _ _ * _ _ _ _ _ _ _ * _\n",
    "\n",
    "''')"
   ]
  },
  {
   "cell_type": "code",
   "execution_count": 2,
   "metadata": {},
   "outputs": [
    {
     "name": "stdout",
     "output_type": "stream",
     "text": [
      "\n",
      "_ _ _ _ _ _ _ _ _ _ _ _ _ _\n",
      "_ _ _ _ _ _ _ _ _ _ _ _ _ _\n",
      "_ _ _ _ _ _ _ _ _ _ _ _ _ _\n",
      "_ _ _ _ _ _ _ _ _ _ _ _ _ _\n",
      "_ _ _ _ _ _ _ _ _ _ _ _ _ _\n",
      "\n",
      "\n"
     ]
    }
   ],
   "source": [
    "print('''\n",
    "_ _ _ _ _ _ _ _ _ _ _ _ _ _\n",
    "_ _ _ _ _ _ _ _ _ _ _ _ _ _\n",
    "_ _ _ _ _ _ _ _ _ _ _ _ _ _\n",
    "_ _ _ _ _ _ _ _ _ _ _ _ _ _\n",
    "_ _ _ _ _ _ _ _ _ _ _ _ _ _\n",
    "\n",
    "''')"
   ]
  },
  {
   "cell_type": "code",
   "execution_count": null,
   "metadata": {},
   "outputs": [],
   "source": []
  }
 ],
 "metadata": {
  "kernelspec": {
   "display_name": "Python 3.8.2 64-bit",
   "language": "python",
   "name": "python38264bit235d1f1712484223b2f34850e120d195"
  },
  "language_info": {
   "codemirror_mode": {
    "name": "ipython",
    "version": 3
   },
   "file_extension": ".py",
   "mimetype": "text/x-python",
   "name": "python",
   "nbconvert_exporter": "python",
   "pygments_lexer": "ipython3",
   "version": "3.8.2"
  }
 },
 "nbformat": 4,
 "nbformat_minor": 4
}
