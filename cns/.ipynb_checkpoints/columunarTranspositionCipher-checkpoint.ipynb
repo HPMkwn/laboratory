{
 "cells": [
  {
   "cell_type": "code",
   "execution_count": 7,
   "metadata": {},
   "outputs": [],
   "source": [
    "import math\n",
    "\n",
    "key = \"BADC\""
   ]
  },
  {
   "cell_type": "code",
   "execution_count": 8,
   "metadata": {},
   "outputs": [],
   "source": [
    "def encryption(text):\n",
    "    cipher = \"\"\n",
    "    \n",
    "    textLength = len(text)\n",
    "    textList = list(text)\n",
    "    keyList = sorted(list(msg))\n",
    "    \n",
    "    col = len(key)\n",
    "    row =  int(math.ceil(textLen/col))\n",
    "    fillNull = int(row*col - text)\n",
    "    \n",
    "    \n",
    "    textList = text_list.extend('_'*fillNull)\n",
    "    \n",
    "    \n",
    "        \n",
    "    \n",
    "    \n",
    "    \n",
    "    return cipher"
   ]
  },
  {
   "cell_type": "code",
   "execution_count": 12,
   "metadata": {},
   "outputs": [
    {
     "ename": "NameError",
     "evalue": "name 'msg_lst' is not defined",
     "output_type": "error",
     "traceback": [
      "\u001b[0;31m---------------------------------------------------------------------------\u001b[0m",
      "\u001b[0;31mNameError\u001b[0m                                 Traceback (most recent call last)",
      "\u001b[0;32m<ipython-input-12-70dc9041f3ce>\u001b[0m in \u001b[0;36m<module>\u001b[0;34m\u001b[0m\n\u001b[1;32m      2\u001b[0m \u001b[0mcol\u001b[0m \u001b[0;34m=\u001b[0m \u001b[0;36m2\u001b[0m\u001b[0;34m\u001b[0m\u001b[0;34m\u001b[0m\u001b[0m\n\u001b[1;32m      3\u001b[0m abc = [msg_lst[i: i + col]  \n\u001b[0;32m----> 4\u001b[0;31m               for i in range(0, len(msg_lst), col)]\n\u001b[0m",
      "\u001b[0;31mNameError\u001b[0m: name 'msg_lst' is not defined"
     ]
    }
   ],
   "source": [
    "msg_lst = list(\"Makawana\")\n",
    "col = 2\n",
    "abc = [msg_lst[i: i + col]  \n",
    "              for i in range(0, len(msg_lst), col)]"
   ]
  },
  {
   "cell_type": "code",
   "execution_count": null,
   "metadata": {},
   "outputs": [],
   "source": []
  }
 ],
 "metadata": {
  "kernelspec": {
   "display_name": "Python 3.8.2 64-bit",
   "language": "python",
   "name": "python38264bit235d1f1712484223b2f34850e120d195"
  },
  "language_info": {
   "codemirror_mode": {
    "name": "ipython",
    "version": 3
   },
   "file_extension": ".py",
   "mimetype": "text/x-python",
   "name": "python",
   "nbconvert_exporter": "python",
   "pygments_lexer": "ipython3",
   "version": "3.8.2"
  }
 },
 "nbformat": 4,
 "nbformat_minor": 4
}
