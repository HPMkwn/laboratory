{
 "cells": [
  {
   "cell_type": "code",
   "execution_count": 1,
   "metadata": {},
   "outputs": [],
   "source": [
    "import math"
   ]
  },
  {
   "cell_type": "code",
   "execution_count": 2,
   "metadata": {},
   "outputs": [],
   "source": [
    "def encrypt(inputFileName,outputFileName,key):\n",
    "    if(math.gcd(key[0],26)!=1):\n",
    "        print(\"Invalid keys.\\n\")\n",
    "        return\n",
    "    ip = open(inputFileName,\"r\")\n",
    "    op = open(outputFileName,\"w\")\n",
    "    for i in ip.read():\n",
    "        if(i.isupper()):\n",
    "            op.write(chr((key[0]*(ord(i)-65)+key[1])%26+65))\n",
    "        elif(i.islower()):\n",
    "            op.write(chr((key[0]*(ord(i)-97)+key[1])%26+97))\n",
    "        else:\n",
    "            op.write(i)\n",
    "    ip.close()\n",
    "    op.close()"
   ]
  },
  {
   "cell_type": "code",
   "execution_count": 3,
   "metadata": {},
   "outputs": [],
   "source": [
    "def decrypt(inputFileName,outputFileName,key):\n",
    "    if(math.gcd(key[0],26)!=1):\n",
    "        print(\"Invalid keys.\\n\")\n",
    "        return\n",
    "    ip = open(inputFileName,\"r\")\n",
    "    op = open(outputFileName,\"w\")\n",
    "    inv_a = 0 \n",
    "    for i in range(26):\n",
    "        if (key[0]*i)%26==1:\n",
    "            inv_a=i\n",
    "    for i in ip.read():\n",
    "        if(i.isupper()):\n",
    "            op.write(chr((inv_a*(ord(i)-key[1]-65))%26+65))\n",
    "        elif(i.islower()):\n",
    "            op.write(chr((inv_a*(ord(i)-key[1]-97))%26+97))\n",
    "        else:\n",
    "            op.write(i)\n",
    "    ip.close()\n",
    "    op.close()"
   ]
  },
  {
   "cell_type": "code",
   "execution_count": 4,
   "metadata": {},
   "outputs": [],
   "source": [
    "encrypt(\"input.txt\",\"output.txt\",[5,7])"
   ]
  },
  {
   "cell_type": "code",
   "execution_count": null,
   "metadata": {},
   "outputs": [],
   "source": []
  }
 ],
 "metadata": {
  "kernelspec": {
   "display_name": "Python 3.8.2 64-bit",
   "language": "python",
   "name": "python38264bit235d1f1712484223b2f34850e120d195"
  },
  "language_info": {
   "codemirror_mode": {
    "name": "ipython",
    "version": 3
   },
   "file_extension": ".py",
   "mimetype": "text/x-python",
   "name": "python",
   "nbconvert_exporter": "python",
   "pygments_lexer": "ipython3",
   "version": "3.8.2"
  }
 },
 "nbformat": 4,
 "nbformat_minor": 4
}
