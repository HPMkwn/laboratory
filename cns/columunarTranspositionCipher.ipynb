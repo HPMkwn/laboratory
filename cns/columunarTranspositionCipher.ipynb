{
 "cells": [
  {
   "cell_type": "code",
   "execution_count": 12,
   "metadata": {},
   "outputs": [],
   "source": [
    "import math\n",
    "\n",
    "key = \"BADC\""
   ]
  },
  {
   "cell_type": "code",
   "execution_count": 7,
   "metadata": {},
   "outputs": [],
   "source": [
    "def encryption(text):\n",
    "    cipher = \"\"\n",
    "    \n",
    "    textLength = len(text)\n",
    "    textList = list(text)\n",
    "#     print(textList)\n",
    "    keyList = sorted(list(key))\n",
    "    \n",
    "    col = len(key)\n",
    "    row =  int(math.ceil(textLength/col))\n",
    "    fillNull = int(row*col - textLength)\n",
    "    \n",
    "#     print(fillNull)\n",
    "    textList.extend('_' * fillNull)\n",
    "#     print(textList)\n",
    "    \n",
    "    matrix = [textList[i : i+col] for i in range(0,row*col,col)]\n",
    "#     print(matrix)\n",
    "    \n",
    "    \n",
    "    k_ind = 0;\n",
    "    for _ in range(col):\n",
    "        cur_ind = key.index(keyList[k_ind])\n",
    "        cipher += ''.join([row[cur_ind] for row in matrix])\n",
    "        k_ind += 1\n",
    "    \n",
    "#     print(cipher)\n",
    "    return cipher"
   ]
  },
  {
   "cell_type": "code",
   "execution_count": 22,
   "metadata": {},
   "outputs": [],
   "source": [
    "def decription(cipher):\n",
    "    msg = \"\"\n",
    "    \n",
    "    msgInd =0 \n",
    "    msgLength = len(cipher)\n",
    "    msgList = list(cipher)\n",
    "    \n",
    "    col = len(key)\n",
    "    \n",
    "    row = int(math.ceil(msgLength/col))\n",
    "    \n",
    "    keyList = sorted(list(key))\n",
    "    \n",
    "    decCipher = []\n",
    "    \n",
    "    for _ in range(row):\n",
    "        decCipher += [[None]* col]\n",
    "    \n",
    "    kInd = 0\n",
    "    for _ in range(col):\n",
    "        curInd = key.index(keyList[kInd])\n",
    "        for j in range(row):\n",
    "            decCipher[j][curInd] = msgList[msgInd]\n",
    "            msgInd +=1;\n",
    "        kInd += 1\n",
    "        \n",
    "#     print(decCipher)\n",
    "    try: \n",
    "        msg = ''.join(sum(decCipher, [])) \n",
    "    except TypeError: \n",
    "        raise TypeError(\"This program cannot\", \n",
    "                        \"handle repeating words.\") \n",
    "#     msg = ''.join(x for x in str(x) for x in decCipher)\n",
    "    null_count = msg.count('_') \n",
    "  \n",
    "    if null_count > 0:\n",
    "#         print(msg[: -null_count])\n",
    "        return msg[: -null_count] \n",
    "\n",
    "#     print(msg)\n",
    "    return msg"
   ]
  },
  {
   "cell_type": "code",
   "execution_count": 23,
   "metadata": {
    "scrolled": true
   },
   "outputs": [
    {
     "data": {
      "text/plain": [
       "'Makawana'"
      ]
     },
     "execution_count": 23,
     "metadata": {},
     "output_type": "execute_result"
    }
   ],
   "source": [
    "decription(encryption(\"Makawana\"))"
   ]
  },
  {
   "cell_type": "code",
   "execution_count": 24,
   "metadata": {},
   "outputs": [
    {
     "name": "stdout",
     "output_type": "stream",
     "text": [
      "aaMwaakn\n"
     ]
    }
   ],
   "source": [
    "print(encryption(\"Makawana\"))"
   ]
  },
  {
   "cell_type": "code",
   "execution_count": 25,
   "metadata": {},
   "outputs": [
    {
     "name": "stdout",
     "output_type": "stream",
     "text": [
      "\n",
      "\n",
      "B A D C\n",
      "_ _ _ _\n",
      "_ _ _ _\n",
      "_ _ _ _\n",
      "_ _ _ _\n",
      "\n",
      "\n"
     ]
    }
   ],
   "source": [
    "print('''\n",
    "\n",
    "B A D C\n",
    "_ _ _ _\n",
    "_ _ _ _\n",
    "_ _ _ _\n",
    "_ _ _ _\n",
    "\n",
    "''')"
   ]
  },
  {
   "cell_type": "code",
   "execution_count": null,
   "metadata": {},
   "outputs": [],
   "source": []
  }
 ],
 "metadata": {
  "kernelspec": {
   "display_name": "Python 3.8.2 64-bit",
   "language": "python",
   "name": "python38264bit235d1f1712484223b2f34850e120d195"
  },
  "language_info": {
   "codemirror_mode": {
    "name": "ipython",
    "version": 3
   },
   "file_extension": ".py",
   "mimetype": "text/x-python",
   "name": "python",
   "nbconvert_exporter": "python",
   "pygments_lexer": "ipython3",
   "version": "3.8.2"
  }
 },
 "nbformat": 4,
 "nbformat_minor": 4
}
